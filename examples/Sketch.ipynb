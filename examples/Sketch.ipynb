{
 "cells": [
  {
   "cell_type": "markdown",
   "id": "preliminary-frontier",
   "metadata": {},
   "source": [
    "# Minimum Example"
   ]
  },
  {
   "cell_type": "code",
   "execution_count": null,
   "id": "stock-apartment",
   "metadata": {},
   "outputs": [],
   "source": [
    "import panel_sketch as ps\n",
    "\n",
    "import panel as pn\n",
    "pn.extension('sketch')"
   ]
  },
  {
   "cell_type": "code",
   "execution_count": null,
   "id": "9a813d02-44b7-433f-8bda-49bde41efa68",
   "metadata": {},
   "outputs": [],
   "source": [
    "src = \"https://github.com/holoviz/panel/raw/master/doc/_static/logo_stacked.png\"\n",
    "image_style = \"height:95%;cursor: pointer;border: 1px solid #ddd;border-radius: 4px;padding: 5px;\"\n",
    "image_html = f\"<img class='image-button' src='{src}' style='{image_style}'>\"\n",
    "\n",
    "sketch = ps.Sketch(value=image_html, height=100, width=100)\n",
    "pn.Column(sketch, pn.Param(sketch, parameters=[\"clicks\"]))"
   ]
  },
  {
   "cell_type": "markdown",
   "id": "careful-bottle",
   "metadata": {},
   "source": [
    "# App\n",
    "\n",
    "Let's wrap it up as an app in a nice template."
   ]
  },
  {
   "cell_type": "code",
   "execution_count": null,
   "id": "recovered-marsh",
   "metadata": {},
   "outputs": [],
   "source": [
    "app = pn.template.FastListTemplate(\n",
    "    site=\"Panel Highcharts\", \n",
    "    title=\"Minimum Example\", \n",
    "    main=[sketch], sidebar=[pn.Param(sketch, parameters=[\"clicks\"])]\n",
    ").servable()"
   ]
  },
  {
   "cell_type": "markdown",
   "id": "forty-reaction",
   "metadata": {},
   "source": [
    "Serve the app with `panel serve MinimumExample.ipynb` and explore it at http://localhost:5006/Sketch.\n",
    "\n",
    "![Sketch App](https://raw.githubusercontent.com/MarcSkovMadsen/panel-sketch/main/assets/images/examples/SketchApp.gif)"
   ]
  }
 ],
 "metadata": {
  "kernelspec": {
   "display_name": "Python 3",
   "language": "python",
   "name": "python3"
  },
  "language_info": {
   "codemirror_mode": {
    "name": "ipython",
    "version": 3
   },
   "file_extension": ".py",
   "mimetype": "text/x-python",
   "name": "python",
   "nbconvert_exporter": "python",
   "pygments_lexer": "ipython3",
   "version": "3.8.4"
  }
 },
 "nbformat": 4,
 "nbformat_minor": 5
}
