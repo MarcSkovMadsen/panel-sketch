{
 "cells": [
  {
   "cell_type": "markdown",
   "id": "adb7a7ff-8f09-4536-999a-7cacf69bce58",
   "metadata": {},
   "source": [
    "![Panel Sketch Logo](https://raw.githubusercontent.com/MarcSkovMadsen/panel-sketch/main/assets/images/panel-sketch-logo.png)"
   ]
  },
  {
   "cell_type": "markdown",
   "id": "preliminary-frontier",
   "metadata": {},
   "source": [
    "# Panel Sketch - Reference Guide\n",
    "\n",
    "**This is PRE-ALPHA and more like a POC. The API and robustness will be improved significantly!**"
   ]
  },
  {
   "cell_type": "code",
   "execution_count": null,
   "id": "stock-apartment",
   "metadata": {},
   "outputs": [],
   "source": [
    "from panel_sketch import Sketch\n",
    "\n",
    "import panel as pn\n",
    "pn.config.sizing_mode=\"stretch_width\"\n",
    "pn.extension()"
   ]
  },
  {
   "cell_type": "markdown",
   "id": "95176896-a6ec-48a5-b6ff-164d7dea4242",
   "metadata": {},
   "source": [
    "# Template: Pyp5js, Compiler: Pyodide\n",
    "\n",
    "Simple but beautiful Sketch based on awesome [pyp5js](https://github.com/berinhard/pyp5js) and compiled using just as awesome [Pyodide](https://github.com/pyodide/pyodide).\n",
    "\n",
    "You can find a gallery of pyp5js examples [here](https://berinhard.github.io/pyp5js/examples/)."
   ]
  },
  {
   "cell_type": "code",
   "execution_count": null,
   "id": "30cca610-b007-4daf-b0c9-8f7ae1d72fc2",
   "metadata": {},
   "outputs": [],
   "source": [
    "args={\"r\": 10, \"g\": 200, \"b\": 40} # This will give us the color for our sketch"
   ]
  },
  {
   "cell_type": "code",
   "execution_count": null,
   "id": "599689b4-420f-4afe-bdd1-04c2011e62a2",
   "metadata": {},
   "outputs": [],
   "source": [
    "sketch_python = \"\"\"\n",
    "# https://p5js.org/examples/interaction-wavemaker.html\n",
    "\n",
    "\n",
    "from pyp5js import *\n",
    "\n",
    "t = 0\n",
    "\n",
    "\n",
    "def setup():\n",
    "    createCanvas(600, 600)\n",
    "    stroke(250)\n",
    "    strokeWeight(3)\n",
    "    fill(window.args.r, window.args.g, window.args.b)\n",
    "\n",
    "\n",
    "def draw():\n",
    "    global t\n",
    "    background(10, 10)\n",
    "    fill(window.args.r, window.args.g, window.args.b)\n",
    "\n",
    "    xAngle = map(mouseX, 0, width, -4 * PI, 4 * PI, True)\n",
    "    yAngle = map(mouseY, 0, height, -4 * PI, 4 * PI, True)\n",
    "    for x in range(0, width, 30):\n",
    "        for y in range(0, height, 30):\n",
    "\n",
    "            angle = xAngle * (x / width) + yAngle * (y / height)\n",
    "\n",
    "            myX = x + 20 * cos(2 * PI * t + angle)\n",
    "            myY = y + 20 * sin(2 * TWO_PI * t + angle)\n",
    "\n",
    "            ellipse(myX, myY, 10)\n",
    "\n",
    "    t = t + 0.01\n",
    "\"\"\""
   ]
  },
  {
   "cell_type": "code",
   "execution_count": null,
   "id": "8c252f91-c842-4e35-a978-01bd4e93c63a",
   "metadata": {},
   "outputs": [],
   "source": [
    "sketch = Sketch(object=sketch_python, template=\"pyp5js\", compiler=\"pyodide\", args=args)\n",
    "sketch.viewer.view"
   ]
  },
  {
   "cell_type": "code",
   "execution_count": null,
   "id": "240da151-8a5f-4044-862b-3505caf4e90e",
   "metadata": {},
   "outputs": [],
   "source": [
    "slider = pn.widgets.IntSlider(name=\"Green\", value=200, start=0, end=255, step=1)\n",
    "@pn.depends(value=slider, watch=True)\n",
    "def _update_value(value):\n",
    "    sketch.args = {\"r\": 10, \"g\": value, \"b\": 40}\n",
    "slider"
   ]
  },
  {
   "cell_type": "markdown",
   "id": "careful-bottle",
   "metadata": {},
   "source": [
    "# App\n",
    "\n",
    "Let's wrap it up as an app in a nice template."
   ]
  },
  {
   "cell_type": "code",
   "execution_count": null,
   "id": "recovered-marsh",
   "metadata": {},
   "outputs": [],
   "source": [
    "app = pn.template.FastListTemplate(\n",
    "    site=\"Panel Sketch\", \n",
    "    title=\"Reference Example\", \n",
    "    main=[\n",
    "        pn.pane.Markdown(\"Thanks **p5js** and **pyp5js** ❤️\"),\n",
    "        sketch.viewer.view,\n",
    "    ], \n",
    "    sidebar=[slider]\n",
    ").servable()"
   ]
  },
  {
   "cell_type": "markdown",
   "id": "forty-reaction",
   "metadata": {},
   "source": [
    "Serve the app with `panel serve Sketch.ipynb` and add something like `--static-dirs transcrypt=panel_sketch/sketch_compiler/assets/js/transcrypt/` (hack for now) and explore it at http://localhost:5006/Sketch.\n",
    "\n",
    "![Sketch App](https://raw.githubusercontent.com/MarcSkovMadsen/panel-sketch/main/assets/images/examples/SketchApp.gif)"
   ]
  },
  {
   "cell_type": "code",
   "execution_count": null,
   "id": "22240dd4-cf78-4c30-9aee-7e7af05f611c",
   "metadata": {},
   "outputs": [],
   "source": []
  }
 ],
 "metadata": {
  "kernelspec": {
   "display_name": "Python 3",
   "language": "python",
   "name": "python3"
  },
  "language_info": {
   "codemirror_mode": {
    "name": "ipython",
    "version": 3
   },
   "file_extension": ".py",
   "mimetype": "text/x-python",
   "name": "python",
   "nbconvert_exporter": "python",
   "pygments_lexer": "ipython3",
   "version": "3.8.4"
  }
 },
 "nbformat": 4,
 "nbformat_minor": 5
}
