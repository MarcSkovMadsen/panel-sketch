{
 "cells": [
  {
   "cell_type": "markdown",
   "id": "preliminary-frontier",
   "metadata": {},
   "source": [
    "# Minimum Example"
   ]
  },
  {
   "cell_type": "code",
   "execution_count": null,
   "id": "stock-apartment",
   "metadata": {},
   "outputs": [],
   "source": [
    "import panel_sketch as ph\n",
    "import panel as pn\n",
    "pn.extension('highchart')\n",
    "configuration = {\n",
    "    \"title\": {\"text\": \"HighChart Pane\"},\n",
    "    \"series\": [\n",
    "        {\n",
    "            \"name\": \"series1\",\n",
    "            \"data\": [1, 2, 3, 4, 5],\n",
    "        }\n",
    "    ]\n",
    "}\n",
    "chart = ph.HighChart(object=configuration, sizing_mode=\"stretch_width\")\n",
    "chart"
   ]
  },
  {
   "cell_type": "markdown",
   "id": "careful-bottle",
   "metadata": {},
   "source": [
    "# App\n",
    "\n",
    "Let's wrap it up as an app in a nice template."
   ]
  },
  {
   "cell_type": "code",
   "execution_count": null,
   "id": "recovered-marsh",
   "metadata": {},
   "outputs": [],
   "source": [
    "app = pn.template.FastListTemplate(\n",
    "    site=\"Panel Highcharts\", \n",
    "    title=\"Minimum Example\", \n",
    "    main=[chart]\n",
    ").servable()"
   ]
  },
  {
   "cell_type": "markdown",
   "id": "forty-reaction",
   "metadata": {},
   "source": [
    "Serve the app with `panel serve MinimumExample.ipynb` and explore it at http://localhost:5006/MinimumExample.\n",
    "\n",
    "![Minimum Example App](https://raw.githubusercontent.com/MarcSkovMadsen/panel-sketch/main/assets/images/MinimumExampleApp.gif)"
   ]
  }
 ],
 "metadata": {
  "kernelspec": {
   "display_name": "Python 3",
   "language": "python",
   "name": "python3"
  },
  "language_info": {
   "codemirror_mode": {
    "name": "ipython",
    "version": 3
   },
   "file_extension": ".py",
   "mimetype": "text/x-python",
   "name": "python",
   "nbconvert_exporter": "python",
   "pygments_lexer": "ipython3",
   "version": "3.8.4"
  }
 },
 "nbformat": 4,
 "nbformat_minor": 5
}
